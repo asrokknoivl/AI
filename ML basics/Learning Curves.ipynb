{
 "cells": [
  {
   "cell_type": "code",
   "execution_count": 150,
   "metadata": {},
   "outputs": [],
   "source": [
    "import numpy as np\n",
    "import pandas as pd\n",
    "import matplotlib.pyplot as plt\n",
    "from sklearn.model_selection import learning_curve\n"
   ]
  },
  {
   "cell_type": "code",
   "execution_count": 3,
   "metadata": {},
   "outputs": [],
   "source": [
    "data = pd.read_csv('Model_selection_data.csv')"
   ]
  },
  {
   "cell_type": "code",
   "execution_count": 8,
   "metadata": {},
   "outputs": [],
   "source": [
    "X = np.array(data[['x1' , 'x2']])\n",
    "y = np.array(data['y'])"
   ]
  },
  {
   "cell_type": "code",
   "execution_count": 151,
   "metadata": {},
   "outputs": [],
   "source": [
    "data = np.array(pd.read_csv('Model_selection_data.csv'))\n",
    "X = data[:,0:2]\n",
    "y = data[:,2]"
   ]
  },
  {
   "cell_type": "code",
   "execution_count": 152,
   "metadata": {},
   "outputs": [
    {
     "data": {
      "text/plain": [
       "100"
      ]
     },
     "execution_count": 152,
     "metadata": {},
     "output_type": "execute_result"
    }
   ],
   "source": [
    "y.shape[0] #returns the dimensionality of the dataset"
   ]
  },
  {
   "cell_type": "code",
   "execution_count": 153,
   "metadata": {},
   "outputs": [],
   "source": [
    "def randomize(X,y): #randomizing data because apparently it's a good thing, it is jk..\n",
    "    perm = np.random.permutation(y.shape[0]) #generating a random set of numbers between 0 and the number of dims\n",
    "    X1 = X[perm] #shuffling features\n",
    "    y1 = y[perm] #shuffling labels\n",
    "    return X1, y1"
   ]
  },
  {
   "cell_type": "code",
   "execution_count": 202,
   "metadata": {},
   "outputs": [],
   "source": [
    "def draw_learning_curves(X, y, estimator, num_trainings):\n",
    "    train_sizes, train_scores, cv_scores = learning_curve(estimator, X, y, cv = None, n_jobs = None,\n",
    "                                                           train_sizes = np.linspace(.1, 1.0, num_trainings))\n",
    "    train_scores_mean = np.mean(train_scores, axis = 1)\n",
    "    train_scores_stddev = np.std(train_scores, axis = 1)\n",
    "    cv_scores_mean = np.mean(cv_scores, axis = 1)\n",
    "    cv_scores_stddev = np.std(cv_scores, axis = 1)\n",
    "    \n",
    "    print(train_sizes)\n",
    "    print(train_scores)\n",
    "    print(cv_scores)\n",
    "    \n",
    "    plt.grid()\n",
    "    plt.title('Learning Curves')\n",
    "    plt.xlabel('used_data_points')\n",
    "    plt.ylabel('Scores')\n",
    "    plt.plot(train_scores_mean, '-o', color = 'g', label = 'Training Score')\n",
    "    plt.plot(cv_scores_mean, '-o', color = 'y', label = 'CV Score')\n",
    "    plt.show()\n",
    "    \n",
    "     "
   ]
  },
  {
   "cell_type": "code",
   "execution_count": 211,
   "metadata": {},
   "outputs": [
    {
     "name": "stdout",
     "output_type": "stream",
     "text": [
      "[ 8 26 44 62 80]\n",
      "[[1. 1. 1. 1. 1.]\n",
      " [1. 1. 1. 1. 1.]\n",
      " [1. 1. 1. 1. 1.]\n",
      " [1. 1. 1. 1. 1.]\n",
      " [1. 1. 1. 1. 1.]]\n",
      "[[0.55 0.5  0.5  0.5  0.5 ]\n",
      " [0.55 0.5  0.5  0.5  0.5 ]\n",
      " [0.45 0.5  0.5  0.5  0.5 ]\n",
      " [0.45 0.5  0.5  0.5  0.55]\n",
      " [0.5  0.55 0.55 0.5  0.5 ]]\n"
     ]
    },
    {
     "data": {
      "image/png": "[encoded data removed]",
      "text/plain": [
       "<Figure size 432x288 with 1 Axes>"
      ]
     },
     "metadata": {
      "needs_background": "light"
     },
     "output_type": "display_data"
    }
   ],
   "source": [
    "from sklearn.linear_model import LogisticRegression as lg #underfit\n",
    "from sklearn.ensemble import GradientBoostingClassifier as gbc #overfit\n",
    "from sklearn.svm import SVC #overoverfit lmao\n",
    "\n",
    "np.random.seed(55)\n",
    "X,y = randomize(X,y)\n",
    "estimator = SVC(kernel = 'rbf', gamma = 1000)\n",
    "# estimator = gbc()\n",
    "draw_learning_curves(X, y, estimator, 5)"
   ]
  },
  {
   "cell_type": "code",
   "execution_count": null,
   "metadata": {},
   "outputs": [],
   "source": []
  },
  {
   "cell_type": "code",
   "execution_count": null,
   "metadata": {},
   "outputs": [],
   "source": []
  }
 ],
 "metadata": {
  "kernelspec": {
   "display_name": "Python 3",
   "language": "python",
   "name": "python3"
  },
  "language_info": {
   "codemirror_mode": {
    "name": "ipython",
    "version": 3
   },
   "file_extension": ".py",
   "mimetype": "text/x-python",
   "name": "python",
   "nbconvert_exporter": "python",
   "pygments_lexer": "ipython3",
   "version": "3.7.6"
  }
 },
 "nbformat": 4,
 "nbformat_minor": 4
}
