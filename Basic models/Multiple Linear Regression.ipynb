{
 "cells": [
  {
   "cell_type": "code",
   "execution_count": 2,
   "metadata": {},
   "outputs": [
    {
     "name": "stdout",
     "output_type": "stream",
     "text": [
      "[23.68284712]\n"
     ]
    }
   ],
   "source": [
    "#multiple linear regression (higher dimension) - test 1\n",
    "from sklearn.linear_model import LinearRegression as lg\n",
    "from sklearn.datasets import load_boston\n",
    "from sklearn.metrics import r2_score as r2\n",
    "import pandas as pd\n",
    "import numpy as np\n",
    "\n",
    "data = load_boston()\n",
    "X= data['data']\n",
    "y = data['target']\n",
    "model = lg()\n",
    "model.fit(X,y)\n",
    "sample_house = [[2.29690000e-01, 0.00000000e+00, 1.05900000e+01, 0.00000000e+00, 4.89000000e-01,\n",
    "                6.32600000e+00, 5.25000000e+01, 4.35490000e+00, 4.00000000e+00, 2.77000000e+02,\n",
    "                1.86000000e+01, 3.94870000e+02, 1.09700000e+01]]\n",
    "y_pred = model.predict(sample_house)\n",
    "print(y_pred)\n"
   ]
  },
  {
   "cell_type": "code",
   "execution_count": 2,
   "metadata": {},
   "outputs": [
    {
     "name": "stdout",
     "output_type": "stream",
     "text": [
      "0.6687594935356289\n"
     ]
    }
   ],
   "source": [
    "#multiple linear regression (higher dimension) - test 2 R2 score\n",
    "from sklearn.linear_model import LinearRegression as lg  \n",
    "from sklearn.datasets import load_boston\n",
    "from sklearn.metrics import r2_score as r2\n",
    "from sklearn.model_selection import train_test_split\n",
    "import pandas as pd\n",
    "import numpy as np\n",
    "\n",
    "data = load_boston()\n",
    "X= data['data']\n",
    "y = data['target']\n",
    "X_train,X_test,y_train,y_test = train_test_split(X, y, test_size = 0.2, random_state = 42, shuffle = True)\n",
    "model = lg()\n",
    "model.fit(X_train,y_train)\n",
    "X_test_2 = []\n",
    "for x in X_test:\n",
    "    kk = []\n",
    "    for xx in str(x).split():\n",
    "        try:\n",
    "            if '[' in xx:\n",
    "                kk.append(float(xx.replace('[','')))\n",
    "            elif ']' in xx:\n",
    "                kk.append(float(xx.replace(']','')))\n",
    "            else:\n",
    "                kk.append(float(xx))\n",
    "        except:\n",
    "            pass\n",
    "    X_test_2.append(kk)\n",
    "y_pred = model.predict(X_test_2) \n",
    "y_true = y_test\n",
    "r2_acc = r2(y_true, y_pred)\n",
    "print(r2_acc)"
   ]
  },
  {
   "cell_type": "code",
   "execution_count": null,
   "metadata": {},
   "outputs": [],
   "source": []
  }
 ],
 "metadata": {
  "kernelspec": {
   "display_name": "Python 3 (ipykernel)",
   "language": "python",
   "name": "python3"
  },
  "language_info": {
   "codemirror_mode": {
    "name": "ipython",
    "version": 3
   },
   "file_extension": ".py",
   "mimetype": "text/x-python",
   "name": "python",
   "nbconvert_exporter": "python",
   "pygments_lexer": "ipython3",
   "version": "3.9.7"
  }
 },
 "nbformat": 4,
 "nbformat_minor": 4
}
