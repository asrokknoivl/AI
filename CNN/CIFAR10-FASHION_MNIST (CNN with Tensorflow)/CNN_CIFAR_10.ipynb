{
 "cells": [
  {
   "cell_type": "code",
   "execution_count": null,
   "id": "abd03980",
   "metadata": {},
   "outputs": [],
   "source": [
    "import numpy as np\n",
    "import pandas as pd\n",
    "import matplotlib.pyplot as plt\n",
    "from tensorflow.keras.layers import Conv2D, Flatten, Dropout, Dense, Input, GlobalMaxPooling2D\n",
    "from tensorflow.keras.models import Model\n",
    "import tensorflow as tf"
   ]
  },
  {
   "cell_type": "code",
   "execution_count": 2,
   "id": "df9c78ed",
   "metadata": {},
   "outputs": [],
   "source": [
    "cifar10= tf.keras.datasets.cifar10"
   ]
  },
  {
   "cell_type": "code",
   "execution_count": 7,
   "id": "0273cd7e",
   "metadata": {},
   "outputs": [],
   "source": [
    "(x_train, y_train), (x_test, y_test)= cifar10.load_data()"
   ]
  },
  {
   "cell_type": "code",
   "execution_count": 11,
   "id": "18249378",
   "metadata": {},
   "outputs": [
    {
     "data": {
      "text/plain": [
       "(50000, 32, 32, 3)"
      ]
     },
     "execution_count": 11,
     "metadata": {},
     "output_type": "execute_result"
    }
   ],
   "source": [
    "x_train.shape"
   ]
  },
  {
   "cell_type": "code",
   "execution_count": 13,
   "id": "41f99eb1",
   "metadata": {},
   "outputs": [
    {
     "data": {
      "text/plain": [
       "array([[[ 59,  62,  63],\n",
       "        [ 43,  46,  45],\n",
       "        [ 50,  48,  43],\n",
       "        ...,\n",
       "        [158, 132, 108],\n",
       "        [152, 125, 102],\n",
       "        [148, 124, 103]],\n",
       "\n",
       "       [[ 16,  20,  20],\n",
       "        [  0,   0,   0],\n",
       "        [ 18,   8,   0],\n",
       "        ...,\n",
       "        [123,  88,  55],\n",
       "        [119,  83,  50],\n",
       "        [122,  87,  57]],\n",
       "\n",
       "       [[ 25,  24,  21],\n",
       "        [ 16,   7,   0],\n",
       "        [ 49,  27,   8],\n",
       "        ...,\n",
       "        [118,  84,  50],\n",
       "        [120,  84,  50],\n",
       "        [109,  73,  42]],\n",
       "\n",
       "       ...,\n",
       "\n",
       "       [[208, 170,  96],\n",
       "        [201, 153,  34],\n",
       "        [198, 161,  26],\n",
       "        ...,\n",
       "        [160, 133,  70],\n",
       "        [ 56,  31,   7],\n",
       "        [ 53,  34,  20]],\n",
       "\n",
       "       [[180, 139,  96],\n",
       "        [173, 123,  42],\n",
       "        [186, 144,  30],\n",
       "        ...,\n",
       "        [184, 148,  94],\n",
       "        [ 97,  62,  34],\n",
       "        [ 83,  53,  34]],\n",
       "\n",
       "       [[177, 144, 116],\n",
       "        [168, 129,  94],\n",
       "        [179, 142,  87],\n",
       "        ...,\n",
       "        [216, 184, 140],\n",
       "        [151, 118,  84],\n",
       "        [123,  92,  72]]], dtype=uint8)"
      ]
     },
     "execution_count": 13,
     "metadata": {},
     "output_type": "execute_result"
    }
   ],
   "source": [
    "x_train[0]"
   ]
  },
  {
   "cell_type": "code",
   "execution_count": 22,
   "id": "0f698597",
   "metadata": {},
   "outputs": [
    {
     "data": {
      "text/plain": [
       "array([[6],\n",
       "       [9],\n",
       "       [9],\n",
       "       ...,\n",
       "       [9],\n",
       "       [1],\n",
       "       [1]], dtype=uint8)"
      ]
     },
     "execution_count": 22,
     "metadata": {},
     "output_type": "execute_result"
    }
   ],
   "source": [
    "y_train #the output array in the cifar10 data is two dimensional, CNNs expect 1D arrays as output, hence we flatten the array"
   ]
  },
  {
   "cell_type": "code",
   "execution_count": 23,
   "id": "baaf8b8b",
   "metadata": {},
   "outputs": [
    {
     "data": {
      "text/plain": [
       "array([6, 9, 9, ..., 9, 1, 1], dtype=uint8)"
      ]
     },
     "execution_count": 23,
     "metadata": {},
     "output_type": "execute_result"
    }
   ],
   "source": [
    "y_train.flatten()"
   ]
  },
  {
   "cell_type": "code",
   "execution_count": null,
   "id": "8f0ec47d",
   "metadata": {},
   "outputs": [],
   "source": []
  },
  {
   "cell_type": "code",
   "execution_count": 24,
   "id": "02e239df",
   "metadata": {},
   "outputs": [],
   "source": [
    "x_train, x_test= x_train/ 255.0, x_test/ 255.0 #Normalization\n",
    "y_train, y_test= y_train.flatten(), y_test.flatten() #flattening"
   ]
  },
  {
   "cell_type": "code",
   "execution_count": 25,
   "id": "d7ac5f52",
   "metadata": {},
   "outputs": [
    {
     "data": {
      "text/plain": [
       "(50000,)"
      ]
     },
     "execution_count": 25,
     "metadata": {},
     "output_type": "execute_result"
    }
   ],
   "source": [
    "y_train.shape"
   ]
  },
  {
   "cell_type": "code",
   "execution_count": 26,
   "id": "38123d8c",
   "metadata": {},
   "outputs": [],
   "source": [
    "outputLayer = set(y_test)"
   ]
  },
  {
   "cell_type": "code",
   "execution_count": 27,
   "id": "15e3c2cd",
   "metadata": {},
   "outputs": [
    {
     "data": {
      "text/plain": [
       "{0, 1, 2, 3, 4, 5, 6, 7, 8, 9}"
      ]
     },
     "execution_count": 27,
     "metadata": {},
     "output_type": "execute_result"
    }
   ],
   "source": [
    "outputLayer #Categories/classes in the output layers"
   ]
  },
  {
   "cell_type": "code",
   "execution_count": 31,
   "id": "3e257620",
   "metadata": {},
   "outputs": [],
   "source": [
    "#building the model, keras functional API\n",
    "inpt = Input(shape=x_train[0].shape) #input layer of the CNN\n",
    "nn = Conv2D(32, (3,3), strides = 2, activation='relu') (inpt) #first conv layer\n",
    "nn = Conv2D(64, (3,3), strides = 2, activation='relu') (nn) #second conv layer\n",
    "nn = Conv2D(128, (3,3), strides = 2, activation='relu') (nn) #third conv layer, stride is the number of pixels to skip when\n",
    "                                                            #executing convolution\n",
    "                                                            #as conventions, we choose small filters relatively to the image\n",
    "                                                            #size and an increasing number of feature maps per conv\n",
    "nn = Flatten() (nn) #we flatten the output, which is going to be something like 4 x 4 x 50000, turned to 50000, (50000 x 1)\n",
    "nn = Dropout(0.2) (nn) #regularization 1\n",
    "nn = Dense(512, activation='relu') (nn) #dense layer\n",
    "nn = Dropout(0.2) (nn) #regularization 2\n",
    "nn = Dense(len(outputLayer), activation='softmax') (nn) #output layer, softmax activation for mutliple classification\n",
    "\n",
    "model = Model(inpt, nn)"
   ]
  },
  {
   "cell_type": "code",
   "execution_count": 32,
   "id": "800dfe61",
   "metadata": {},
   "outputs": [
    {
     "name": "stdout",
     "output_type": "stream",
     "text": [
      "Epoch 1/15\n",
      "1563/1563 [==============================] - 14s 9ms/step - loss: 1.5277 - accuracy: 0.4443 - val_loss: 1.2539 - val_accuracy: 0.5427\n",
      "Epoch 2/15\n",
      "1563/1563 [==============================] - 14s 9ms/step - loss: 1.2008 - accuracy: 0.5710 - val_loss: 1.0600 - val_accuracy: 0.6238\n",
      "Epoch 3/15\n",
      "1563/1563 [==============================] - 14s 9ms/step - loss: 1.0483 - accuracy: 0.6294 - val_loss: 1.0045 - val_accuracy: 0.6397\n",
      "Epoch 4/15\n",
      "1563/1563 [==============================] - 15s 9ms/step - loss: 0.9343 - accuracy: 0.6690 - val_loss: 0.9583 - val_accuracy: 0.6621\n",
      "Epoch 5/15\n",
      "1563/1563 [==============================] - 14s 9ms/step - loss: 0.8501 - accuracy: 0.6995 - val_loss: 0.9071 - val_accuracy: 0.6805\n",
      "Epoch 6/15\n",
      "1563/1563 [==============================] - 14s 9ms/step - loss: 0.7689 - accuracy: 0.7278 - val_loss: 0.9242 - val_accuracy: 0.6734\n",
      "Epoch 7/15\n",
      "1563/1563 [==============================] - 15s 9ms/step - loss: 0.7062 - accuracy: 0.7506 - val_loss: 0.8760 - val_accuracy: 0.6952\n",
      "Epoch 8/15\n",
      "1563/1563 [==============================] - 16s 10ms/step - loss: 0.6451 - accuracy: 0.7722 - val_loss: 0.8650 - val_accuracy: 0.7020\n",
      "Epoch 9/15\n",
      "1563/1563 [==============================] - 15s 10ms/step - loss: 0.5965 - accuracy: 0.7893 - val_loss: 0.8637 - val_accuracy: 0.7057\n",
      "Epoch 10/15\n",
      "1563/1563 [==============================] - 16s 10ms/step - loss: 0.5477 - accuracy: 0.8027 - val_loss: 0.8993 - val_accuracy: 0.6986\n",
      "Epoch 11/15\n",
      "1563/1563 [==============================] - 16s 10ms/step - loss: 0.5045 - accuracy: 0.8189 - val_loss: 0.8989 - val_accuracy: 0.7051\n",
      "Epoch 12/15\n",
      "1563/1563 [==============================] - 16s 10ms/step - loss: 0.4707 - accuracy: 0.8312 - val_loss: 0.9133 - val_accuracy: 0.7055\n",
      "Epoch 13/15\n",
      "1563/1563 [==============================] - 16s 10ms/step - loss: 0.4406 - accuracy: 0.8443 - val_loss: 0.9466 - val_accuracy: 0.7045\n",
      "Epoch 14/15\n",
      "1563/1563 [==============================] - 16s 10ms/step - loss: 0.4099 - accuracy: 0.8538 - val_loss: 0.9622 - val_accuracy: 0.6988\n",
      "Epoch 15/15\n",
      "1563/1563 [==============================] - 17s 11ms/step - loss: 0.3935 - accuracy: 0.8598 - val_loss: 0.9719 - val_accuracy: 0.7074\n"
     ]
    }
   ],
   "source": [
    "#compiling and fitting\n",
    "model.compile(optimizer='adam', loss= 'sparse_categorical_crossentropy', metrics=['accuracy'])\n",
    "r= model.fit(x_train, y_train, validation_data=(x_test, y_test), epochs= 15)"
   ]
  },
  {
   "cell_type": "code",
   "execution_count": 33,
   "id": "80c769d0",
   "metadata": {},
   "outputs": [
    {
     "data": {
      "text/plain": [
       "<matplotlib.legend.Legend at 0x2036c4e13a0>"
      ]
     },
     "execution_count": 33,
     "metadata": {},
     "output_type": "execute_result"
    },
    {
     "data": {
      "image/png": "[encoded data removed]",
      "text/plain": [
       "<Figure size 432x288 with 1 Axes>"
      ]
     },
     "metadata": {
      "needs_background": "light"
     },
     "output_type": "display_data"
    }
   ],
   "source": [
    "#plotting loss per epch\n",
    "plt.plot(r.history['loss'], label= 'loss')\n",
    "plt.plot(r.history['val_loss'], label= 'val_loss')\n",
    "plt.legend()"
   ]
  },
  {
   "cell_type": "code",
   "execution_count": 34,
   "id": "0dde9e30",
   "metadata": {},
   "outputs": [
    {
     "data": {
      "text/plain": [
       "<matplotlib.legend.Legend at 0x2036add52b0>"
      ]
     },
     "execution_count": 34,
     "metadata": {},
     "output_type": "execute_result"
    },
    {
     "data": {
      "image/png": "[encoded data removed]",
      "text/plain": [
       "<Figure size 432x288 with 1 Axes>"
      ]
     },
     "metadata": {
      "needs_background": "light"
     },
     "output_type": "display_data"
    }
   ],
   "source": [
    "#plotting accuracy per epoch\n",
    "plt.plot(r.history['accuracy'], label= 'accuracy')\n",
    "plt.plot(r.history['val_accuracy'], label= 'val_accuracy')\n",
    "plt.legend()"
   ]
  },
  {
   "cell_type": "code",
   "execution_count": 37,
   "id": "1b4cd118",
   "metadata": {},
   "outputs": [
    {
     "name": "stdout",
     "output_type": "stream",
     "text": [
      "Confusion Matrix, no normalization\n",
      "[[755  18  58  20  18  14  10  12  56  39]\n",
      " [ 12 838  14   9   2   6   5   3  25  86]\n",
      " [ 53   8 618  67  74  75  57  25  12  11]\n",
      " [ 21  10  74 469  72 200  84  40  13  17]\n",
      " [ 19   5  79  58 679  37  47  61  10   5]\n",
      " [ 10   9  60 160  65 627  24  37   3   5]\n",
      " [  9  11  34  49  48  33 797   6  10   3]\n",
      " [ 13   0  41  33  91  79   7 717   3  16]\n",
      " [ 60  35  17  16  10   8   8   3 811  32]\n",
      " [ 40 101  12  16   8  15  13  15  17 763]]\n"
     ]
    },
    {
     "data": {
      "image/png": "[encoded data removed]",
      "text/plain": [
       "<Figure size 432x288 with 2 Axes>"
      ]
     },
     "metadata": {
      "needs_background": "light"
     },
     "output_type": "display_data"
    }
   ],
   "source": [
    "#plotting confusion matrix\n",
    "\n",
    "from sklearn.metrics import confusion_matrix\n",
    "import itertools\n",
    "\n",
    "def plot_confusion_matrix(cm, classes, normalize= False, title= 'Confusion Matrix', cmap=plt.cm.Blues):\n",
    "    if normalize:\n",
    "        cm = cm.astype('float') / cm.sum(axis=1)[:, np.newaaxis]\n",
    "        print(\"Normalized Confusion Matrix\")\n",
    "    else:\n",
    "        print(\"Confusion Matrix, no normalization\")\n",
    "    print(cm)\n",
    "    plt.imshow(cm, interpolation= 'nearest', cmap=cmap)\n",
    "    plt.title(title)\n",
    "    plt.colorbar()\n",
    "    tick_marks = np.arange(len(outputLayer))\n",
    "    plt.xticks(tick_marks, outputLayer, rotation= 45)\n",
    "    plt.yticks(tick_marks, outputLayer)\n",
    "    \n",
    "    fmt = '.2f' if normalize else 'd'\n",
    "    thresh = cm.max() /2.\n",
    "    for i,j in itertools.product(range(cm.shape[0]), range(cm.shape[1])):\n",
    "        plt.text(j, i, format(cm[i, j], fmt), horizontalalignment= \"center\", color= \"white\" if cm[i, j]> thresh else \"black\")\n",
    "    plt.tight_layout()\n",
    "    plt.ylabel('True Label')\n",
    "    plt.xlabel('Predicted Label')\n",
    "    plt.show()\n",
    "\n",
    "prediction_test= model.predict(x_test).argmax(axis= 1)\n",
    "cm= confusion_matrix(y_test, prediction_test)\n",
    "plot_confusion_matrix(cm, list(range(10)))"
   ]
  },
  {
   "cell_type": "code",
   "execution_count": 44,
   "id": "a4fead39",
   "metadata": {},
   "outputs": [],
   "source": [
    "#Label Mapping\n",
    "labels= \"\"\"Airplace\n",
    "Atomobile\n",
    "Bird\n",
    "Cat\n",
    "Deer\n",
    "Dog\n",
    "Frog\n",
    "Horse\n",
    "Ship\n",
    "Truck\n",
    "\"\"\".split()"
   ]
  },
  {
   "cell_type": "code",
   "execution_count": 45,
   "id": "ce96a246",
   "metadata": {},
   "outputs": [],
   "source": [
    "miscalssifiedPredictions= np.where(prediction_test!= y_test)[0]"
   ]
  },
  {
   "cell_type": "code",
   "execution_count": 47,
   "id": "d7df8efe",
   "metadata": {},
   "outputs": [
    {
     "data": {
      "text/plain": [
       "Text(0.5, 1.0, 'True Label: Bird, Predicted Label: Ship')"
      ]
     },
     "execution_count": 47,
     "metadata": {},
     "output_type": "execute_result"
    },
    {
     "data": {
      "image/png": "[encoded data removed]",
      "text/plain": [
       "<Figure size 432x288 with 1 Axes>"
      ]
     },
     "metadata": {
      "needs_background": "light"
     },
     "output_type": "display_data"
    }
   ],
   "source": [
    "randomPrediction= np.random.choice(miscalssifiedPredictions)\n",
    "plt.imshow(x_test[randomPrediction], cmap= 'gray')\n",
    "plt.title(f\"True Label: {labels[y_test[randomPrediction]]}, Predicted Label: {labels[prediction_test[randomPrediction]]}\")"
   ]
  },
  {
   "cell_type": "code",
   "execution_count": null,
   "id": "e41c30c0",
   "metadata": {},
   "outputs": [],
   "source": []
  }
 ],
 "metadata": {
  "kernelspec": {
   "display_name": "tf-gpu",
   "language": "python",
   "name": "tf-gpu"
  },
  "language_info": {
   "codemirror_mode": {
    "name": "ipython",
    "version": 3
   },
   "file_extension": ".py",
   "mimetype": "text/x-python",
   "name": "python",
   "nbconvert_exporter": "python",
   "pygments_lexer": "ipython3",
   "version": "3.9.12"
  }
 },
 "nbformat": 4,
 "nbformat_minor": 5
}
